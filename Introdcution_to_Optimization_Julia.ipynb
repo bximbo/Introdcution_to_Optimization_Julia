{
 "cells": [
  {
   "cell_type": "code",
   "execution_count": 8,
   "id": "d90428cd",
   "metadata": {},
   "outputs": [
    {
     "name": "stdout",
     "output_type": "stream",
     "text": [
      "hello world\n",
      "hi world\n"
     ]
    }
   ],
   "source": [
    "msg1=\"hello world\\n\"\n",
    "print(msg1)\n",
    "msg2=\"hi world\"\n",
    "println(msg2)"
   ]
  },
  {
   "cell_type": "code",
   "execution_count": 6,
   "id": "dd189d9d",
   "metadata": {},
   "outputs": [
    {
     "name": "stdout",
     "output_type": "stream",
     "text": [
      "Hello, World!\n"
     ]
    }
   ],
   "source": [
    "println(\"Hello, World!\")"
   ]
  },
  {
   "cell_type": "code",
   "execution_count": 20,
   "id": "8987aad2",
   "metadata": {},
   "outputs": [
    {
     "name": "stdout",
     "output_type": "stream",
     "text": [
      "The numbers are as follows 1234\n"
     ]
    }
   ],
   "source": [
    "using \n",
    "\n",
    "Number = \"numbers\"\n",
    "number1 = 1\n",
    "number2 = 2\n",
    "number3 = 3\n",
    "number4 = 4\n",
    "\n",
    "println(\"The \", (Number), \" are as follows \", (number1), (number2), (number3), (number4))"
   ]
  },
  {
   "cell_type": "code",
   "execution_count": 2,
   "id": "69934aee",
   "metadata": {},
   "outputs": [
    {
     "ename": "LoadError",
     "evalue": "UndefVarError: with_optimizer not defined",
     "output_type": "error",
     "traceback": [
      "UndefVarError: with_optimizer not defined",
      "",
      "Stacktrace:",
      " [1] top-level scope",
      "   @ In[2]:5"
     ]
    }
   ],
   "source": [
    "using JuMP\n",
    "using GLPK\n",
    "\n",
    "# Create a linear programming model\n",
    "m = Model(with_optimizer(GLPK.Optimizer))\n",
    "\n",
    "# Define variables\n",
    "@variable(m, x >= 0)\n",
    "@variable(m, y >= 0)\n",
    "\n",
    "# Set the objective function to maximize 2x + 3y\n",
    "@objective(m, Max, 2x + 3y)\n",
    "\n",
    "# Add constraints\n",
    "@constraint(m, 4x + 3y <= 24)\n",
    "@constraint(m, 2x + y <= 8)\n",
    "\n",
    "# Optimize the model\n",
    "optimize!(m)\n",
    "\n",
    "# Display the optimal solution\n",
    "println(\"Optimal solution:\")\n",
    "println(\"x = \", value(x))\n",
    "println(\"y = \", value(y))\n"
   ]
  }
 ],
 "metadata": {
  "kernelspec": {
   "display_name": "Julia 1.6.7",
   "language": "julia",
   "name": "julia-1.6"
  },
  "language_info": {
   "file_extension": ".jl",
   "mimetype": "application/julia",
   "name": "julia",
   "version": "1.6.7"
  }
 },
 "nbformat": 4,
 "nbformat_minor": 5
}
